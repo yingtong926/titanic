{
 "cells": [
  {
   "cell_type": "markdown",
   "id": "b88012a3",
   "metadata": {
    "papermill": {
     "duration": 0.014491,
     "end_time": "2024-04-23T07:36:14.983148",
     "exception": false,
     "start_time": "2024-04-23T07:36:14.968657",
     "status": "completed"
    },
    "tags": []
   },
   "source": [
    "This is my attempt to the titanic dataset so far. The highest score is 0.77990, which is a slight improvement compared to the Kaggle baseline model which scores 0.77751. "
   ]
  },
  {
   "cell_type": "code",
   "execution_count": 1,
   "id": "77d32767",
   "metadata": {
    "_cell_guid": "b1076dfc-b9ad-4769-8c92-a6c4dae69d19",
    "_uuid": "8f2839f25d086af736a60e9eeb907d3b93b6e0e5",
    "execution": {
     "iopub.execute_input": "2024-04-23T07:36:15.013070Z",
     "iopub.status.busy": "2024-04-23T07:36:15.012504Z",
     "iopub.status.idle": "2024-04-23T07:36:18.164812Z",
     "shell.execute_reply": "2024-04-23T07:36:18.163021Z"
    },
    "papermill": {
     "duration": 3.170884,
     "end_time": "2024-04-23T07:36:18.168216",
     "exception": false,
     "start_time": "2024-04-23T07:36:14.997332",
     "status": "completed"
    },
    "tags": []
   },
   "outputs": [],
   "source": [
    "import numpy as np\n",
    "import pandas as pd\n",
    "import re\n",
    " \n",
    "from sklearn.model_selection import train_test_split, KFold, cross_val_score\n",
    "from sklearn.tree import DecisionTreeClassifier, DecisionTreeRegressor, plot_tree\n",
    "from sklearn.ensemble import RandomForestClassifier\n",
    "from sklearn.ensemble import HistGradientBoostingClassifier\n",
    "\n",
    "from sklearn.metrics import accuracy_score\n",
    "\n",
    "import matplotlib.pyplot as plt"
   ]
  },
  {
   "cell_type": "markdown",
   "id": "d903e0d9",
   "metadata": {
    "papermill": {
     "duration": 0.013228,
     "end_time": "2024-04-23T07:36:18.195673",
     "exception": false,
     "start_time": "2024-04-23T07:36:18.182445",
     "status": "completed"
    },
    "tags": []
   },
   "source": [
    "# Features\n",
    "\n",
    "The *train_data* and the *test_data* have the same columns, except that the *Survived* column only appears in the *train_data*. We note that there are missing values in the *Cabin* column."
   ]
  },
  {
   "cell_type": "code",
   "execution_count": 2,
   "id": "a047e355",
   "metadata": {
    "execution": {
     "iopub.execute_input": "2024-04-23T07:36:18.224505Z",
     "iopub.status.busy": "2024-04-23T07:36:18.223777Z",
     "iopub.status.idle": "2024-04-23T07:36:18.288133Z",
     "shell.execute_reply": "2024-04-23T07:36:18.286806Z"
    },
    "papermill": {
     "duration": 0.08225,
     "end_time": "2024-04-23T07:36:18.291018",
     "exception": false,
     "start_time": "2024-04-23T07:36:18.208768",
     "status": "completed"
    },
    "tags": []
   },
   "outputs": [
    {
     "data": {
      "text/html": [
       "<div>\n",
       "<style scoped>\n",
       "    .dataframe tbody tr th:only-of-type {\n",
       "        vertical-align: middle;\n",
       "    }\n",
       "\n",
       "    .dataframe tbody tr th {\n",
       "        vertical-align: top;\n",
       "    }\n",
       "\n",
       "    .dataframe thead th {\n",
       "        text-align: right;\n",
       "    }\n",
       "</style>\n",
       "<table border=\"1\" class=\"dataframe\">\n",
       "  <thead>\n",
       "    <tr style=\"text-align: right;\">\n",
       "      <th></th>\n",
       "      <th>PassengerId</th>\n",
       "      <th>Survived</th>\n",
       "      <th>Pclass</th>\n",
       "      <th>Name</th>\n",
       "      <th>Sex</th>\n",
       "      <th>Age</th>\n",
       "      <th>SibSp</th>\n",
       "      <th>Parch</th>\n",
       "      <th>Ticket</th>\n",
       "      <th>Fare</th>\n",
       "      <th>Cabin</th>\n",
       "      <th>Embarked</th>\n",
       "    </tr>\n",
       "  </thead>\n",
       "  <tbody>\n",
       "    <tr>\n",
       "      <th>0</th>\n",
       "      <td>1</td>\n",
       "      <td>0</td>\n",
       "      <td>3</td>\n",
       "      <td>Braund, Mr. Owen Harris</td>\n",
       "      <td>male</td>\n",
       "      <td>22.0</td>\n",
       "      <td>1</td>\n",
       "      <td>0</td>\n",
       "      <td>A/5 21171</td>\n",
       "      <td>7.2500</td>\n",
       "      <td>NaN</td>\n",
       "      <td>S</td>\n",
       "    </tr>\n",
       "    <tr>\n",
       "      <th>1</th>\n",
       "      <td>2</td>\n",
       "      <td>1</td>\n",
       "      <td>1</td>\n",
       "      <td>Cumings, Mrs. John Bradley (Florence Briggs Th...</td>\n",
       "      <td>female</td>\n",
       "      <td>38.0</td>\n",
       "      <td>1</td>\n",
       "      <td>0</td>\n",
       "      <td>PC 17599</td>\n",
       "      <td>71.2833</td>\n",
       "      <td>C85</td>\n",
       "      <td>C</td>\n",
       "    </tr>\n",
       "    <tr>\n",
       "      <th>2</th>\n",
       "      <td>3</td>\n",
       "      <td>1</td>\n",
       "      <td>3</td>\n",
       "      <td>Heikkinen, Miss. Laina</td>\n",
       "      <td>female</td>\n",
       "      <td>26.0</td>\n",
       "      <td>0</td>\n",
       "      <td>0</td>\n",
       "      <td>STON/O2. 3101282</td>\n",
       "      <td>7.9250</td>\n",
       "      <td>NaN</td>\n",
       "      <td>S</td>\n",
       "    </tr>\n",
       "    <tr>\n",
       "      <th>3</th>\n",
       "      <td>4</td>\n",
       "      <td>1</td>\n",
       "      <td>1</td>\n",
       "      <td>Futrelle, Mrs. Jacques Heath (Lily May Peel)</td>\n",
       "      <td>female</td>\n",
       "      <td>35.0</td>\n",
       "      <td>1</td>\n",
       "      <td>0</td>\n",
       "      <td>113803</td>\n",
       "      <td>53.1000</td>\n",
       "      <td>C123</td>\n",
       "      <td>S</td>\n",
       "    </tr>\n",
       "    <tr>\n",
       "      <th>4</th>\n",
       "      <td>5</td>\n",
       "      <td>0</td>\n",
       "      <td>3</td>\n",
       "      <td>Allen, Mr. William Henry</td>\n",
       "      <td>male</td>\n",
       "      <td>35.0</td>\n",
       "      <td>0</td>\n",
       "      <td>0</td>\n",
       "      <td>373450</td>\n",
       "      <td>8.0500</td>\n",
       "      <td>NaN</td>\n",
       "      <td>S</td>\n",
       "    </tr>\n",
       "  </tbody>\n",
       "</table>\n",
       "</div>"
      ],
      "text/plain": [
       "   PassengerId  Survived  Pclass  \\\n",
       "0            1         0       3   \n",
       "1            2         1       1   \n",
       "2            3         1       3   \n",
       "3            4         1       1   \n",
       "4            5         0       3   \n",
       "\n",
       "                                                Name     Sex   Age  SibSp  \\\n",
       "0                            Braund, Mr. Owen Harris    male  22.0      1   \n",
       "1  Cumings, Mrs. John Bradley (Florence Briggs Th...  female  38.0      1   \n",
       "2                             Heikkinen, Miss. Laina  female  26.0      0   \n",
       "3       Futrelle, Mrs. Jacques Heath (Lily May Peel)  female  35.0      1   \n",
       "4                           Allen, Mr. William Henry    male  35.0      0   \n",
       "\n",
       "   Parch            Ticket     Fare Cabin Embarked  \n",
       "0      0         A/5 21171   7.2500   NaN        S  \n",
       "1      0          PC 17599  71.2833   C85        C  \n",
       "2      0  STON/O2. 3101282   7.9250   NaN        S  \n",
       "3      0            113803  53.1000  C123        S  \n",
       "4      0            373450   8.0500   NaN        S  "
      ]
     },
     "execution_count": 2,
     "metadata": {},
     "output_type": "execute_result"
    }
   ],
   "source": [
    "train_data = pd.read_csv(\"/kaggle/input/titanic/train.csv\")\n",
    "train_data.head()"
   ]
  },
  {
   "cell_type": "code",
   "execution_count": 3,
   "id": "b23ec185",
   "metadata": {
    "execution": {
     "iopub.execute_input": "2024-04-23T07:36:18.319167Z",
     "iopub.status.busy": "2024-04-23T07:36:18.318741Z",
     "iopub.status.idle": "2024-04-23T07:36:18.350143Z",
     "shell.execute_reply": "2024-04-23T07:36:18.348620Z"
    },
    "papermill": {
     "duration": 0.049065,
     "end_time": "2024-04-23T07:36:18.353334",
     "exception": false,
     "start_time": "2024-04-23T07:36:18.304269",
     "status": "completed"
    },
    "tags": []
   },
   "outputs": [
    {
     "data": {
      "text/html": [
       "<div>\n",
       "<style scoped>\n",
       "    .dataframe tbody tr th:only-of-type {\n",
       "        vertical-align: middle;\n",
       "    }\n",
       "\n",
       "    .dataframe tbody tr th {\n",
       "        vertical-align: top;\n",
       "    }\n",
       "\n",
       "    .dataframe thead th {\n",
       "        text-align: right;\n",
       "    }\n",
       "</style>\n",
       "<table border=\"1\" class=\"dataframe\">\n",
       "  <thead>\n",
       "    <tr style=\"text-align: right;\">\n",
       "      <th></th>\n",
       "      <th>PassengerId</th>\n",
       "      <th>Pclass</th>\n",
       "      <th>Name</th>\n",
       "      <th>Sex</th>\n",
       "      <th>Age</th>\n",
       "      <th>SibSp</th>\n",
       "      <th>Parch</th>\n",
       "      <th>Ticket</th>\n",
       "      <th>Fare</th>\n",
       "      <th>Cabin</th>\n",
       "      <th>Embarked</th>\n",
       "    </tr>\n",
       "  </thead>\n",
       "  <tbody>\n",
       "    <tr>\n",
       "      <th>0</th>\n",
       "      <td>892</td>\n",
       "      <td>3</td>\n",
       "      <td>Kelly, Mr. James</td>\n",
       "      <td>male</td>\n",
       "      <td>34.5</td>\n",
       "      <td>0</td>\n",
       "      <td>0</td>\n",
       "      <td>330911</td>\n",
       "      <td>7.8292</td>\n",
       "      <td>NaN</td>\n",
       "      <td>Q</td>\n",
       "    </tr>\n",
       "    <tr>\n",
       "      <th>1</th>\n",
       "      <td>893</td>\n",
       "      <td>3</td>\n",
       "      <td>Wilkes, Mrs. James (Ellen Needs)</td>\n",
       "      <td>female</td>\n",
       "      <td>47.0</td>\n",
       "      <td>1</td>\n",
       "      <td>0</td>\n",
       "      <td>363272</td>\n",
       "      <td>7.0000</td>\n",
       "      <td>NaN</td>\n",
       "      <td>S</td>\n",
       "    </tr>\n",
       "    <tr>\n",
       "      <th>2</th>\n",
       "      <td>894</td>\n",
       "      <td>2</td>\n",
       "      <td>Myles, Mr. Thomas Francis</td>\n",
       "      <td>male</td>\n",
       "      <td>62.0</td>\n",
       "      <td>0</td>\n",
       "      <td>0</td>\n",
       "      <td>240276</td>\n",
       "      <td>9.6875</td>\n",
       "      <td>NaN</td>\n",
       "      <td>Q</td>\n",
       "    </tr>\n",
       "    <tr>\n",
       "      <th>3</th>\n",
       "      <td>895</td>\n",
       "      <td>3</td>\n",
       "      <td>Wirz, Mr. Albert</td>\n",
       "      <td>male</td>\n",
       "      <td>27.0</td>\n",
       "      <td>0</td>\n",
       "      <td>0</td>\n",
       "      <td>315154</td>\n",
       "      <td>8.6625</td>\n",
       "      <td>NaN</td>\n",
       "      <td>S</td>\n",
       "    </tr>\n",
       "    <tr>\n",
       "      <th>4</th>\n",
       "      <td>896</td>\n",
       "      <td>3</td>\n",
       "      <td>Hirvonen, Mrs. Alexander (Helga E Lindqvist)</td>\n",
       "      <td>female</td>\n",
       "      <td>22.0</td>\n",
       "      <td>1</td>\n",
       "      <td>1</td>\n",
       "      <td>3101298</td>\n",
       "      <td>12.2875</td>\n",
       "      <td>NaN</td>\n",
       "      <td>S</td>\n",
       "    </tr>\n",
       "  </tbody>\n",
       "</table>\n",
       "</div>"
      ],
      "text/plain": [
       "   PassengerId  Pclass                                          Name     Sex  \\\n",
       "0          892       3                              Kelly, Mr. James    male   \n",
       "1          893       3              Wilkes, Mrs. James (Ellen Needs)  female   \n",
       "2          894       2                     Myles, Mr. Thomas Francis    male   \n",
       "3          895       3                              Wirz, Mr. Albert    male   \n",
       "4          896       3  Hirvonen, Mrs. Alexander (Helga E Lindqvist)  female   \n",
       "\n",
       "    Age  SibSp  Parch   Ticket     Fare Cabin Embarked  \n",
       "0  34.5      0      0   330911   7.8292   NaN        Q  \n",
       "1  47.0      1      0   363272   7.0000   NaN        S  \n",
       "2  62.0      0      0   240276   9.6875   NaN        Q  \n",
       "3  27.0      0      0   315154   8.6625   NaN        S  \n",
       "4  22.0      1      1  3101298  12.2875   NaN        S  "
      ]
     },
     "execution_count": 3,
     "metadata": {},
     "output_type": "execute_result"
    }
   ],
   "source": [
    "test_data = pd.read_csv(\"/kaggle/input/titanic/test.csv\")\n",
    "test_data.head()"
   ]
  },
  {
   "cell_type": "markdown",
   "id": "6883143f",
   "metadata": {
    "papermill": {
     "duration": 0.01277,
     "end_time": "2024-04-23T07:36:18.380498",
     "exception": false,
     "start_time": "2024-04-23T07:36:18.367728",
     "status": "completed"
    },
    "tags": []
   },
   "source": [
    "There are around 180 missing values in the *Age* column, 690 missing values in the *Cabin* column, and 2 missing values in the *Embarked* column in *train_data*. In *test_data*, there are also missing values in the *Age* and the *Cabin* columns. Additionally, there is a missing value in the *Fare* column in *test_data*."
   ]
  },
  {
   "cell_type": "code",
   "execution_count": 4,
   "id": "43645fd7",
   "metadata": {
    "execution": {
     "iopub.execute_input": "2024-04-23T07:36:18.411902Z",
     "iopub.status.busy": "2024-04-23T07:36:18.411268Z",
     "iopub.status.idle": "2024-04-23T07:36:18.447513Z",
     "shell.execute_reply": "2024-04-23T07:36:18.445484Z"
    },
    "papermill": {
     "duration": 0.054797,
     "end_time": "2024-04-23T07:36:18.450614",
     "exception": false,
     "start_time": "2024-04-23T07:36:18.395817",
     "status": "completed"
    },
    "tags": []
   },
   "outputs": [
    {
     "name": "stdout",
     "output_type": "stream",
     "text": [
      "<class 'pandas.core.frame.DataFrame'>\n",
      "RangeIndex: 891 entries, 0 to 890\n",
      "Data columns (total 12 columns):\n",
      " #   Column       Non-Null Count  Dtype  \n",
      "---  ------       --------------  -----  \n",
      " 0   PassengerId  891 non-null    int64  \n",
      " 1   Survived     891 non-null    int64  \n",
      " 2   Pclass       891 non-null    int64  \n",
      " 3   Name         891 non-null    object \n",
      " 4   Sex          891 non-null    object \n",
      " 5   Age          714 non-null    float64\n",
      " 6   SibSp        891 non-null    int64  \n",
      " 7   Parch        891 non-null    int64  \n",
      " 8   Ticket       891 non-null    object \n",
      " 9   Fare         891 non-null    float64\n",
      " 10  Cabin        204 non-null    object \n",
      " 11  Embarked     889 non-null    object \n",
      "dtypes: float64(2), int64(5), object(5)\n",
      "memory usage: 83.7+ KB\n"
     ]
    }
   ],
   "source": [
    "train_data.info()"
   ]
  },
  {
   "cell_type": "code",
   "execution_count": 5,
   "id": "06cbff85",
   "metadata": {
    "execution": {
     "iopub.execute_input": "2024-04-23T07:36:18.480872Z",
     "iopub.status.busy": "2024-04-23T07:36:18.480463Z",
     "iopub.status.idle": "2024-04-23T07:36:18.494970Z",
     "shell.execute_reply": "2024-04-23T07:36:18.493607Z"
    },
    "papermill": {
     "duration": 0.032464,
     "end_time": "2024-04-23T07:36:18.498366",
     "exception": false,
     "start_time": "2024-04-23T07:36:18.465902",
     "status": "completed"
    },
    "tags": []
   },
   "outputs": [
    {
     "name": "stdout",
     "output_type": "stream",
     "text": [
      "<class 'pandas.core.frame.DataFrame'>\n",
      "RangeIndex: 418 entries, 0 to 417\n",
      "Data columns (total 11 columns):\n",
      " #   Column       Non-Null Count  Dtype  \n",
      "---  ------       --------------  -----  \n",
      " 0   PassengerId  418 non-null    int64  \n",
      " 1   Pclass       418 non-null    int64  \n",
      " 2   Name         418 non-null    object \n",
      " 3   Sex          418 non-null    object \n",
      " 4   Age          332 non-null    float64\n",
      " 5   SibSp        418 non-null    int64  \n",
      " 6   Parch        418 non-null    int64  \n",
      " 7   Ticket       418 non-null    object \n",
      " 8   Fare         417 non-null    float64\n",
      " 9   Cabin        91 non-null     object \n",
      " 10  Embarked     418 non-null    object \n",
      "dtypes: float64(2), int64(4), object(5)\n",
      "memory usage: 36.0+ KB\n"
     ]
    }
   ],
   "source": [
    "test_data.info()"
   ]
  },
  {
   "cell_type": "markdown",
   "id": "6f965dae",
   "metadata": {
    "papermill": {
     "duration": 0.015416,
     "end_time": "2024-04-23T07:36:18.528033",
     "exception": false,
     "start_time": "2024-04-23T07:36:18.512617",
     "status": "completed"
    },
    "tags": []
   },
   "source": [
    "We will first impute the *Embarked* column by mode because only 2 values are missing and it is a small proportion of the whole dataset. "
   ]
  },
  {
   "cell_type": "code",
   "execution_count": 6,
   "id": "42df79ec",
   "metadata": {
    "execution": {
     "iopub.execute_input": "2024-04-23T07:36:18.557938Z",
     "iopub.status.busy": "2024-04-23T07:36:18.557486Z",
     "iopub.status.idle": "2024-04-23T07:36:18.571664Z",
     "shell.execute_reply": "2024-04-23T07:36:18.570463Z"
    },
    "papermill": {
     "duration": 0.033042,
     "end_time": "2024-04-23T07:36:18.574567",
     "exception": false,
     "start_time": "2024-04-23T07:36:18.541525",
     "status": "completed"
    },
    "tags": []
   },
   "outputs": [],
   "source": [
    "embarked_mode = pd.concat([train_data, test_data])['Embarked'].mode()[0]\n",
    "train_data['Embarked'] = train_data['Embarked'].fillna(embarked_mode)"
   ]
  },
  {
   "cell_type": "markdown",
   "id": "08f635b0",
   "metadata": {
    "papermill": {
     "duration": 0.012268,
     "end_time": "2024-04-23T07:36:18.599764",
     "exception": false,
     "start_time": "2024-04-23T07:36:18.587496",
     "status": "completed"
    },
    "tags": []
   },
   "source": [
    "The percentage of passengers with *Cabin* are highest for first class and lowest for third class."
   ]
  },
  {
   "cell_type": "code",
   "execution_count": 7,
   "id": "57379a89",
   "metadata": {
    "execution": {
     "iopub.execute_input": "2024-04-23T07:36:18.631413Z",
     "iopub.status.busy": "2024-04-23T07:36:18.630939Z",
     "iopub.status.idle": "2024-04-23T07:36:18.659269Z",
     "shell.execute_reply": "2024-04-23T07:36:18.657162Z"
    },
    "papermill": {
     "duration": 0.048417,
     "end_time": "2024-04-23T07:36:18.662638",
     "exception": false,
     "start_time": "2024-04-23T07:36:18.614221",
     "status": "completed"
    },
    "tags": []
   },
   "outputs": [
    {
     "name": "stdout",
     "output_type": "stream",
     "text": [
      "<class 'pandas.core.frame.DataFrame'>\n",
      "Index: 323 entries, 1 to 414\n",
      "Data columns (total 12 columns):\n",
      " #   Column       Non-Null Count  Dtype  \n",
      "---  ------       --------------  -----  \n",
      " 0   PassengerId  323 non-null    int64  \n",
      " 1   Survived     216 non-null    float64\n",
      " 2   Pclass       323 non-null    int64  \n",
      " 3   Name         323 non-null    object \n",
      " 4   Sex          323 non-null    object \n",
      " 5   Age          284 non-null    float64\n",
      " 6   SibSp        323 non-null    int64  \n",
      " 7   Parch        323 non-null    int64  \n",
      " 8   Ticket       323 non-null    object \n",
      " 9   Fare         323 non-null    float64\n",
      " 10  Cabin        256 non-null    object \n",
      " 11  Embarked     323 non-null    object \n",
      "dtypes: float64(3), int64(4), object(5)\n",
      "memory usage: 32.8+ KB\n"
     ]
    }
   ],
   "source": [
    "pd.concat([train_data, test_data])[pd.concat([train_data, test_data])['Pclass'] == 1].info()"
   ]
  },
  {
   "cell_type": "code",
   "execution_count": 8,
   "id": "ccb9240a",
   "metadata": {
    "execution": {
     "iopub.execute_input": "2024-04-23T07:36:18.692995Z",
     "iopub.status.busy": "2024-04-23T07:36:18.692589Z",
     "iopub.status.idle": "2024-04-23T07:36:18.718232Z",
     "shell.execute_reply": "2024-04-23T07:36:18.716171Z"
    },
    "papermill": {
     "duration": 0.045341,
     "end_time": "2024-04-23T07:36:18.721650",
     "exception": false,
     "start_time": "2024-04-23T07:36:18.676309",
     "status": "completed"
    },
    "tags": []
   },
   "outputs": [
    {
     "name": "stdout",
     "output_type": "stream",
     "text": [
      "<class 'pandas.core.frame.DataFrame'>\n",
      "Index: 277 entries, 9 to 406\n",
      "Data columns (total 12 columns):\n",
      " #   Column       Non-Null Count  Dtype  \n",
      "---  ------       --------------  -----  \n",
      " 0   PassengerId  277 non-null    int64  \n",
      " 1   Survived     184 non-null    float64\n",
      " 2   Pclass       277 non-null    int64  \n",
      " 3   Name         277 non-null    object \n",
      " 4   Sex          277 non-null    object \n",
      " 5   Age          261 non-null    float64\n",
      " 6   SibSp        277 non-null    int64  \n",
      " 7   Parch        277 non-null    int64  \n",
      " 8   Ticket       277 non-null    object \n",
      " 9   Fare         277 non-null    float64\n",
      " 10  Cabin        23 non-null     object \n",
      " 11  Embarked     277 non-null    object \n",
      "dtypes: float64(3), int64(4), object(5)\n",
      "memory usage: 28.1+ KB\n"
     ]
    }
   ],
   "source": [
    "pd.concat([train_data, test_data])[pd.concat([train_data, test_data])['Pclass'] == 2].info()"
   ]
  },
  {
   "cell_type": "code",
   "execution_count": 9,
   "id": "64b99593",
   "metadata": {
    "execution": {
     "iopub.execute_input": "2024-04-23T07:36:18.753180Z",
     "iopub.status.busy": "2024-04-23T07:36:18.752785Z",
     "iopub.status.idle": "2024-04-23T07:36:18.776324Z",
     "shell.execute_reply": "2024-04-23T07:36:18.773897Z"
    },
    "papermill": {
     "duration": 0.043151,
     "end_time": "2024-04-23T07:36:18.779553",
     "exception": false,
     "start_time": "2024-04-23T07:36:18.736402",
     "status": "completed"
    },
    "tags": []
   },
   "outputs": [
    {
     "name": "stdout",
     "output_type": "stream",
     "text": [
      "<class 'pandas.core.frame.DataFrame'>\n",
      "Index: 709 entries, 0 to 417\n",
      "Data columns (total 12 columns):\n",
      " #   Column       Non-Null Count  Dtype  \n",
      "---  ------       --------------  -----  \n",
      " 0   PassengerId  709 non-null    int64  \n",
      " 1   Survived     491 non-null    float64\n",
      " 2   Pclass       709 non-null    int64  \n",
      " 3   Name         709 non-null    object \n",
      " 4   Sex          709 non-null    object \n",
      " 5   Age          501 non-null    float64\n",
      " 6   SibSp        709 non-null    int64  \n",
      " 7   Parch        709 non-null    int64  \n",
      " 8   Ticket       709 non-null    object \n",
      " 9   Fare         708 non-null    float64\n",
      " 10  Cabin        16 non-null     object \n",
      " 11  Embarked     709 non-null    object \n",
      "dtypes: float64(3), int64(4), object(5)\n",
      "memory usage: 72.0+ KB\n"
     ]
    }
   ],
   "source": [
    "pd.concat([train_data, test_data])[pd.concat([train_data, test_data])['Pclass'] == 3].info()"
   ]
  },
  {
   "cell_type": "markdown",
   "id": "8c35136a",
   "metadata": {
    "papermill": {
     "duration": 0.013126,
     "end_time": "2024-04-23T07:36:18.808053",
     "exception": false,
     "start_time": "2024-04-23T07:36:18.794927",
     "status": "completed"
    },
    "tags": []
   },
   "source": [
    "We will fill missing values in the first, second and third class by X, Y, Z, and extract the *cabin_class* feature from this column."
   ]
  },
  {
   "cell_type": "code",
   "execution_count": 10,
   "id": "34ac93fa",
   "metadata": {
    "execution": {
     "iopub.execute_input": "2024-04-23T07:36:18.841559Z",
     "iopub.status.busy": "2024-04-23T07:36:18.840803Z",
     "iopub.status.idle": "2024-04-23T07:36:18.852510Z",
     "shell.execute_reply": "2024-04-23T07:36:18.851217Z"
    },
    "papermill": {
     "duration": 0.03134,
     "end_time": "2024-04-23T07:36:18.855457",
     "exception": false,
     "start_time": "2024-04-23T07:36:18.824117",
     "status": "completed"
    },
    "tags": []
   },
   "outputs": [],
   "source": [
    "def extract_cabin(data):\n",
    "    data.loc[data['Pclass']==1, 'Cabin'] = data.loc[data['Pclass']==1, 'Cabin'].fillna('X')\n",
    "    data.loc[data['Pclass']==2, 'Cabin'] = data.loc[data['Pclass']==2, 'Cabin'].fillna('Y')\n",
    "    data.loc[data['Pclass']==3, 'Cabin'] = data.loc[data['Pclass']==3, 'Cabin'].fillna('Z')\n",
    "    data['Cabin'] = data['Cabin'].apply(lambda x: x.split(' '))\n",
    "    data['cabin_class'] = data['Cabin'].apply(lambda l: ','.join(list(set([re.findall(r'([A-Z]+)',x)[0] for x in l]))))\n",
    "    data.drop(columns=['Cabin'], inplace = True)\n",
    "    return data"
   ]
  },
  {
   "cell_type": "code",
   "execution_count": 11,
   "id": "55908628",
   "metadata": {
    "execution": {
     "iopub.execute_input": "2024-04-23T07:36:18.887471Z",
     "iopub.status.busy": "2024-04-23T07:36:18.886919Z",
     "iopub.status.idle": "2024-04-23T07:36:18.923559Z",
     "shell.execute_reply": "2024-04-23T07:36:18.921717Z"
    },
    "papermill": {
     "duration": 0.056835,
     "end_time": "2024-04-23T07:36:18.927367",
     "exception": false,
     "start_time": "2024-04-23T07:36:18.870532",
     "status": "completed"
    },
    "tags": []
   },
   "outputs": [],
   "source": [
    "train_data = extract_cabin(train_data)\n",
    "test_data = extract_cabin(test_data)"
   ]
  },
  {
   "cell_type": "markdown",
   "id": "07f384ef",
   "metadata": {
    "papermill": {
     "duration": 0.013879,
     "end_time": "2024-04-23T07:36:18.955728",
     "exception": false,
     "start_time": "2024-04-23T07:36:18.941849",
     "status": "completed"
    },
    "tags": []
   },
   "source": [
    "Now we have filled all the missing values in *train_data*. As for the missing *Fare* values in the *test_data*, we again use mean imputation and we created a new *fare_per_person* feature."
   ]
  },
  {
   "cell_type": "code",
   "execution_count": 12,
   "id": "c4d6e9c1",
   "metadata": {
    "execution": {
     "iopub.execute_input": "2024-04-23T07:36:18.985853Z",
     "iopub.status.busy": "2024-04-23T07:36:18.985377Z",
     "iopub.status.idle": "2024-04-23T07:36:19.020200Z",
     "shell.execute_reply": "2024-04-23T07:36:19.018130Z"
    },
    "papermill": {
     "duration": 0.053743,
     "end_time": "2024-04-23T07:36:19.023727",
     "exception": false,
     "start_time": "2024-04-23T07:36:18.969984",
     "status": "completed"
    },
    "tags": []
   },
   "outputs": [],
   "source": [
    "ticket_counts = pd.concat([train_data,test_data]).groupby('Ticket').size().reset_index(name='ticket_counts')\n",
    "\n",
    "def add_fare_per_person(data):\n",
    "    data = data.merge(ticket_counts, on = 'Ticket', how = 'left')\n",
    "    data['fare_per_person'] = data['Fare']/data['ticket_counts']\n",
    "    return data\n",
    "\n",
    "train_data = add_fare_per_person(train_data)\n",
    "test_data = add_fare_per_person(test_data)\n",
    "\n",
    "mean_fare_per_person = test_data['fare_per_person'].mean()\n",
    "test_data['fare_per_person'] = test_data['fare_per_person'].fillna(mean_fare_per_person)\n",
    "mean_fare = test_data['Fare'].mean()\n",
    "test_data['Fare'] = test_data['Fare'].fillna(mean_fare)"
   ]
  },
  {
   "cell_type": "code",
   "execution_count": 13,
   "id": "643ab5f7",
   "metadata": {
    "execution": {
     "iopub.execute_input": "2024-04-23T07:36:19.054806Z",
     "iopub.status.busy": "2024-04-23T07:36:19.054397Z",
     "iopub.status.idle": "2024-04-23T07:36:19.078072Z",
     "shell.execute_reply": "2024-04-23T07:36:19.075815Z"
    },
    "papermill": {
     "duration": 0.043046,
     "end_time": "2024-04-23T07:36:19.081192",
     "exception": false,
     "start_time": "2024-04-23T07:36:19.038146",
     "status": "completed"
    },
    "tags": []
   },
   "outputs": [
    {
     "data": {
      "text/html": [
       "<div>\n",
       "<style scoped>\n",
       "    .dataframe tbody tr th:only-of-type {\n",
       "        vertical-align: middle;\n",
       "    }\n",
       "\n",
       "    .dataframe tbody tr th {\n",
       "        vertical-align: top;\n",
       "    }\n",
       "\n",
       "    .dataframe thead th {\n",
       "        text-align: right;\n",
       "    }\n",
       "</style>\n",
       "<table border=\"1\" class=\"dataframe\">\n",
       "  <thead>\n",
       "    <tr style=\"text-align: right;\">\n",
       "      <th></th>\n",
       "      <th>std</th>\n",
       "      <th>mean</th>\n",
       "    </tr>\n",
       "    <tr>\n",
       "      <th>cabin_class</th>\n",
       "      <th></th>\n",
       "      <th></th>\n",
       "    </tr>\n",
       "  </thead>\n",
       "  <tbody>\n",
       "    <tr>\n",
       "      <th>A</th>\n",
       "      <td>11.822944</td>\n",
       "      <td>32.354767</td>\n",
       "    </tr>\n",
       "    <tr>\n",
       "      <th>B</th>\n",
       "      <td>24.324002</td>\n",
       "      <td>39.153090</td>\n",
       "    </tr>\n",
       "    <tr>\n",
       "      <th>C</th>\n",
       "      <td>8.536412</td>\n",
       "      <td>34.729590</td>\n",
       "    </tr>\n",
       "    <tr>\n",
       "      <th>D</th>\n",
       "      <td>7.967485</td>\n",
       "      <td>28.458462</td>\n",
       "    </tr>\n",
       "    <tr>\n",
       "      <th>E</th>\n",
       "      <td>8.264772</td>\n",
       "      <td>23.390192</td>\n",
       "    </tr>\n",
       "    <tr>\n",
       "      <th>F</th>\n",
       "      <td>1.548409</td>\n",
       "      <td>9.694444</td>\n",
       "    </tr>\n",
       "    <tr>\n",
       "      <th>F,E</th>\n",
       "      <td>NaN</td>\n",
       "      <td>7.452767</td>\n",
       "    </tr>\n",
       "    <tr>\n",
       "      <th>F,G</th>\n",
       "      <td>0.000000</td>\n",
       "      <td>7.650000</td>\n",
       "    </tr>\n",
       "    <tr>\n",
       "      <th>G</th>\n",
       "      <td>0.193653</td>\n",
       "      <td>5.398958</td>\n",
       "    </tr>\n",
       "    <tr>\n",
       "      <th>T</th>\n",
       "      <td>NaN</td>\n",
       "      <td>35.500000</td>\n",
       "    </tr>\n",
       "    <tr>\n",
       "      <th>X</th>\n",
       "      <td>20.227965</td>\n",
       "      <td>33.093815</td>\n",
       "    </tr>\n",
       "    <tr>\n",
       "      <th>Y</th>\n",
       "      <td>2.986635</td>\n",
       "      <td>11.208219</td>\n",
       "    </tr>\n",
       "    <tr>\n",
       "      <th>Z</th>\n",
       "      <td>1.616825</td>\n",
       "      <td>7.351484</td>\n",
       "    </tr>\n",
       "  </tbody>\n",
       "</table>\n",
       "</div>"
      ],
      "text/plain": [
       "                   std       mean\n",
       "cabin_class                      \n",
       "A            11.822944  32.354767\n",
       "B            24.324002  39.153090\n",
       "C             8.536412  34.729590\n",
       "D             7.967485  28.458462\n",
       "E             8.264772  23.390192\n",
       "F             1.548409   9.694444\n",
       "F,E                NaN   7.452767\n",
       "F,G           0.000000   7.650000\n",
       "G             0.193653   5.398958\n",
       "T                  NaN  35.500000\n",
       "X            20.227965  33.093815\n",
       "Y             2.986635  11.208219\n",
       "Z             1.616825   7.351484"
      ]
     },
     "execution_count": 13,
     "metadata": {},
     "output_type": "execute_result"
    }
   ],
   "source": [
    "train_data.groupby(['cabin_class'])['fare_per_person'].agg({'mean','std'})"
   ]
  },
  {
   "cell_type": "code",
   "execution_count": 14,
   "id": "5b7b695e",
   "metadata": {
    "execution": {
     "iopub.execute_input": "2024-04-23T07:36:19.113435Z",
     "iopub.status.busy": "2024-04-23T07:36:19.112928Z",
     "iopub.status.idle": "2024-04-23T07:36:19.123357Z",
     "shell.execute_reply": "2024-04-23T07:36:19.121935Z"
    },
    "papermill": {
     "duration": 0.030843,
     "end_time": "2024-04-23T07:36:19.127177",
     "exception": false,
     "start_time": "2024-04-23T07:36:19.096334",
     "status": "completed"
    },
    "tags": []
   },
   "outputs": [],
   "source": [
    "train_data['Sex'] = train_data['Sex'].map({'female':1,'male':0})\n",
    "test_data['Sex'] = test_data['Sex'].map({'female':1,'male':0})"
   ]
  },
  {
   "cell_type": "markdown",
   "id": "f9c43065",
   "metadata": {
    "papermill": {
     "duration": 0.01521,
     "end_time": "2024-04-23T07:36:19.156698",
     "exception": false,
     "start_time": "2024-04-23T07:36:19.141488",
     "status": "completed"
    },
    "tags": []
   },
   "source": [
    "We created the *family_size* and *family_id* label because it is possible that those with a large family size had to take care of many family members and they are less likely to survive compared to those with a small family."
   ]
  },
  {
   "cell_type": "code",
   "execution_count": 15,
   "id": "638b2158",
   "metadata": {
    "execution": {
     "iopub.execute_input": "2024-04-23T07:36:19.188227Z",
     "iopub.status.busy": "2024-04-23T07:36:19.187725Z",
     "iopub.status.idle": "2024-04-23T07:36:19.198064Z",
     "shell.execute_reply": "2024-04-23T07:36:19.196489Z"
    },
    "papermill": {
     "duration": 0.029892,
     "end_time": "2024-04-23T07:36:19.200957",
     "exception": false,
     "start_time": "2024-04-23T07:36:19.171065",
     "status": "completed"
    },
    "tags": []
   },
   "outputs": [],
   "source": [
    "train_data['family_size'] = train_data['SibSp']+train_data['Parch']+1\n",
    "test_data['family_size'] = test_data['SibSp']+test_data['Parch']+1"
   ]
  },
  {
   "cell_type": "code",
   "execution_count": 16,
   "id": "78717a70",
   "metadata": {
    "execution": {
     "iopub.execute_input": "2024-04-23T07:36:19.233423Z",
     "iopub.status.busy": "2024-04-23T07:36:19.232063Z",
     "iopub.status.idle": "2024-04-23T07:36:19.253028Z",
     "shell.execute_reply": "2024-04-23T07:36:19.251220Z"
    },
    "papermill": {
     "duration": 0.039671,
     "end_time": "2024-04-23T07:36:19.256006",
     "exception": false,
     "start_time": "2024-04-23T07:36:19.216335",
     "status": "completed"
    },
    "tags": []
   },
   "outputs": [],
   "source": [
    "def add_family_id(data):\n",
    "    data['last_name'] = data['Name'].str.split(',').str[0]\n",
    "    data['family_id'] = data['family_size'].astype(str)+data['last_name']\n",
    "    data['family_id2'] = data['family_id']\n",
    "    data.loc[data['family_size']<=3,'family_id2'] = 'Small'\n",
    "    return data\n",
    "\n",
    "train_data = add_family_id(train_data)\n",
    "test_data = add_family_id(test_data)"
   ]
  },
  {
   "cell_type": "markdown",
   "id": "06892533",
   "metadata": {
    "papermill": {
     "duration": 0.015199,
     "end_time": "2024-04-23T07:36:19.285397",
     "exception": false,
     "start_time": "2024-04-23T07:36:19.270198",
     "status": "completed"
    },
    "tags": []
   },
   "source": [
    "Now, we move on to the *Age* variable and we are going to apply mean imputation by groups for missing values. For example, the 'Master' title is for young boys and 'Miss' or 'Mlle' (Mademoiselle in French) titles are for young ladies. I also tried impute missing values by decision tree. Since we intend to fit tree models at later stage, and these models are quite sensitive to one-hot encoded data, we will also reduce the number of titles a bit by merging similar ones, e.g. mering 'Mrs' and 'Ms', merging honorable titles like 'Capt', 'Don' to 'Sir'."
   ]
  },
  {
   "cell_type": "code",
   "execution_count": 17,
   "id": "c5ce199c",
   "metadata": {
    "execution": {
     "iopub.execute_input": "2024-04-23T07:36:19.325521Z",
     "iopub.status.busy": "2024-04-23T07:36:19.324966Z",
     "iopub.status.idle": "2024-04-23T07:36:19.395287Z",
     "shell.execute_reply": "2024-04-23T07:36:19.393896Z"
    },
    "papermill": {
     "duration": 0.094053,
     "end_time": "2024-04-23T07:36:19.398343",
     "exception": false,
     "start_time": "2024-04-23T07:36:19.304290",
     "status": "completed"
    },
    "tags": []
   },
   "outputs": [],
   "source": [
    "train_data['title'] = train_data['Name'].str.extract(r'([A-Za-z]+)\\.')\n",
    "test_data['title'] = test_data['Name'].str.extract(r'([A-Za-z]+)\\.')\n",
    "\n",
    "def clean_title(data):\n",
    "    data['title'] = data['title'].replace('Mlle', 'Miss')\n",
    "    data['title'] = data['title'].replace({'Mme':'Ms', 'Mrs':'Ms'})\n",
    "    data['title'] = data['title'].replace({'Capt':'Sir', 'Don': 'Sir', 'Major': 'Sir', 'Rev': 'Sir', 'Col':'Sir'})\n",
    "    data['title'] = data['title'].replace({'Dona':'Lady','Countess':'Lady', 'Jonkheer':'Lady'})\n",
    "    data.loc[(data['title'] == 'Dr') & (data['Sex'] == 'female'), 'title'] = 'Lady'\n",
    "    data.loc[(data['title'] == 'Dr') & (data['Sex'] == 'male'), 'title'] = 'Sir'\n",
    "    return data\n",
    "\n",
    "train_data = clean_title(train_data)\n",
    "test_data = clean_title(test_data)\n",
    "\n",
    "def fill_age_by_mean(data):\n",
    "    master_mean_age = data.loc[data['title']=='Master','Age'].mean()\n",
    "    miss_mean_age = data.loc[data['title']=='Miss','Age'].mean()\n",
    "    rest_mean_age = data.loc[(data['title']!='Master') & (data['title']!='Miss'),'Age'].mean()\n",
    "    data.loc[data['title']=='Master','Age'] = data.loc[data['title']=='Master','Age'].fillna(master_mean_age)\n",
    "    data.loc[data['title']=='Miss','Age'] = data.loc[data['title']=='Miss','Age'].fillna(miss_mean_age)\n",
    "    data.loc[(data['title']!='Master') & (data['title']!='Miss'),'Age'] = data.loc[(data['title']!='Master') & (data['title']!='Miss'),'Age'].fillna(rest_mean_age)\n",
    "    return data\n",
    "\n",
    "def fill_age_by_decision_tree(train_data,test_data):\n",
    "    features = ['Pclass', \"Sex\", 'SibSp', 'Parch', 'Fare', 'Embarked','title','family_size']\n",
    "    df = pd.concat([train_data,test_data])\n",
    "    combined_data = pd.get_dummies(df[features])\n",
    "    clf = DecisionTreeRegressor(min_impurity_decrease = 0.005)\n",
    "    clf.fit(combined_data.loc[~df['Age'].isna()],df.loc[~df['Age'].isna()]['Age'])\n",
    "    df.loc[df['Age'].isna(),'Age'] = clf.predict(combined_data.loc[df['Age'].isna()])\n",
    "    return df[:len(train_data)], df[len(train_data):]\n",
    "    \n",
    "train_data = fill_age_by_mean(train_data)\n",
    "test_data = fill_age_by_mean(test_data)\n",
    "# train_data,test_data = fill_age_by_decision_tree(train_data,test_data)"
   ]
  },
  {
   "cell_type": "markdown",
   "id": "100d0b19",
   "metadata": {
    "papermill": {
     "duration": 0.021317,
     "end_time": "2024-04-23T07:36:19.434091",
     "exception": false,
     "start_time": "2024-04-23T07:36:19.412774",
     "status": "completed"
    },
    "tags": []
   },
   "source": [
    "# Models\n",
    "We will first try a decision tree classifier. The training set and the validation set are from a 30-70 split of *train_data*. For start, we will use essentially all the features in the dataset, and categorical data will be converted by one-hot encoding. "
   ]
  },
  {
   "cell_type": "code",
   "execution_count": 18,
   "id": "a105ed57",
   "metadata": {
    "execution": {
     "iopub.execute_input": "2024-04-23T07:36:19.480305Z",
     "iopub.status.busy": "2024-04-23T07:36:19.479525Z",
     "iopub.status.idle": "2024-04-23T07:36:19.495581Z",
     "shell.execute_reply": "2024-04-23T07:36:19.494156Z"
    },
    "papermill": {
     "duration": 0.044624,
     "end_time": "2024-04-23T07:36:19.498887",
     "exception": false,
     "start_time": "2024-04-23T07:36:19.454263",
     "status": "completed"
    },
    "tags": []
   },
   "outputs": [],
   "source": [
    "# one_hot_encoded = pd.concat([train_data,test_data])['cabin_class'].str.get_dummies(sep=',')\n",
    "# features = ['Pclass', \"Sex\", 'Age', 'SibSp', 'Parch', 'Fare', 'Embarked','title','family_size','family_id2']\n",
    "features_1 = ['Pclass', \"Sex\", 'Age', 'SibSp', 'Parch', 'Fare', 'Embarked']\n",
    "combined_data_1= pd.get_dummies(pd.concat([train_data,test_data])[features_1])\n",
    "# combined_data = pd.concat([combined_data, one_hot_encoded], axis = 1)"
   ]
  },
  {
   "cell_type": "code",
   "execution_count": 19,
   "id": "4b1a90b8",
   "metadata": {
    "execution": {
     "iopub.execute_input": "2024-04-23T07:36:19.539681Z",
     "iopub.status.busy": "2024-04-23T07:36:19.539097Z",
     "iopub.status.idle": "2024-04-23T07:36:19.551509Z",
     "shell.execute_reply": "2024-04-23T07:36:19.550000Z"
    },
    "papermill": {
     "duration": 0.033353,
     "end_time": "2024-04-23T07:36:19.555036",
     "exception": false,
     "start_time": "2024-04-23T07:36:19.521683",
     "status": "completed"
    },
    "tags": []
   },
   "outputs": [],
   "source": [
    "X_train, X_val, y_train, y_val = train_test_split(combined_data_1[:len(train_data)],\n",
    "    train_data['Survived'], \n",
    "    test_size=0.3, \n",
    "    random_state=42\n",
    ")"
   ]
  },
  {
   "cell_type": "code",
   "execution_count": 20,
   "id": "a6376834",
   "metadata": {
    "execution": {
     "iopub.execute_input": "2024-04-23T07:36:19.588568Z",
     "iopub.status.busy": "2024-04-23T07:36:19.588049Z",
     "iopub.status.idle": "2024-04-23T07:36:20.516697Z",
     "shell.execute_reply": "2024-04-23T07:36:20.515414Z"
    },
    "papermill": {
     "duration": 0.950399,
     "end_time": "2024-04-23T07:36:20.521458",
     "exception": false,
     "start_time": "2024-04-23T07:36:19.571059",
     "status": "completed"
    },
    "tags": []
   },
   "outputs": [
    {
     "name": "stdout",
     "output_type": "stream",
     "text": [
      "Accuracy: 0.8097014925373134\n"
     ]
    },
    {
     "data": {
      "image/png": "[encoded data removed]",
      "text/plain": [
       "<Figure size 2400x700 with 1 Axes>"
      ]
     },
     "metadata": {},
     "output_type": "display_data"
    }
   ],
   "source": [
    "tree_classifier = DecisionTreeClassifier(min_impurity_decrease = 0.005)\n",
    "tree_classifier.fit(X_train, y_train)\n",
    "y_pred = tree_classifier.predict(X_val)\n",
    "accuracy = accuracy_score(y_val, y_pred)\n",
    "print(\"Accuracy:\", accuracy)\n",
    "\n",
    "plt.figure(figsize=(24, 7))\n",
    "plot_tree(tree_classifier, filled = True, feature_names=X_train.columns, fontsize = 8)\n",
    "plt.show()"
   ]
  },
  {
   "cell_type": "code",
   "execution_count": 21,
   "id": "d3347a6d",
   "metadata": {
    "execution": {
     "iopub.execute_input": "2024-04-23T07:36:20.556754Z",
     "iopub.status.busy": "2024-04-23T07:36:20.556288Z",
     "iopub.status.idle": "2024-04-23T07:36:20.869182Z",
     "shell.execute_reply": "2024-04-23T07:36:20.867307Z"
    },
    "papermill": {
     "duration": 0.335296,
     "end_time": "2024-04-23T07:36:20.872812",
     "exception": false,
     "start_time": "2024-04-23T07:36:20.537516",
     "status": "completed"
    },
    "tags": []
   },
   "outputs": [
    {
     "name": "stdout",
     "output_type": "stream",
     "text": [
      "Accuracy: 0.8283582089552238\n"
     ]
    }
   ],
   "source": [
    "rforest_classifier = RandomForestClassifier(n_estimators=100, min_impurity_decrease = 0.0025, random_state=1)\n",
    "rforest_classifier.fit(X_train, y_train)\n",
    "y_pred = rforest_classifier.predict(X_val)\n",
    "accuracy = accuracy_score(y_val, y_pred)\n",
    "print(\"Accuracy:\", accuracy)"
   ]
  },
  {
   "cell_type": "code",
   "execution_count": 22,
   "id": "74f22970",
   "metadata": {
    "execution": {
     "iopub.execute_input": "2024-04-23T07:36:20.907906Z",
     "iopub.status.busy": "2024-04-23T07:36:20.907365Z",
     "iopub.status.idle": "2024-04-23T07:36:21.464623Z",
     "shell.execute_reply": "2024-04-23T07:36:21.463265Z"
    },
    "papermill": {
     "duration": 0.577985,
     "end_time": "2024-04-23T07:36:21.467487",
     "exception": false,
     "start_time": "2024-04-23T07:36:20.889502",
     "status": "completed"
    },
    "tags": []
   },
   "outputs": [
    {
     "data": {
      "image/png": "[encoded data removed]",
      "text/plain": [
       "<Figure size 640x480 with 1 Axes>"
      ]
     },
     "metadata": {},
     "output_type": "display_data"
    }
   ],
   "source": [
    "importances = rforest_classifier.feature_importances_\n",
    "std = np.std([tree.feature_importances_ for tree in rforest_classifier.estimators_], axis=0)\n",
    "\n",
    "forest_importances = pd.Series(importances, index=X_train.columns)\n",
    "\n",
    "fig, ax = plt.subplots()\n",
    "forest_importances.plot.bar(yerr=std, ax=ax)\n",
    "ax.set_title(\"Feature importances using MDI\")\n",
    "ax.set_ylabel(\"Mean decrease in impurity\")\n",
    "fig.tight_layout()"
   ]
  },
  {
   "cell_type": "code",
   "execution_count": 23,
   "id": "b1711fe4",
   "metadata": {
    "execution": {
     "iopub.execute_input": "2024-04-23T07:36:21.503210Z",
     "iopub.status.busy": "2024-04-23T07:36:21.502759Z",
     "iopub.status.idle": "2024-04-23T07:36:22.029424Z",
     "shell.execute_reply": "2024-04-23T07:36:22.028328Z"
    },
    "papermill": {
     "duration": 0.547571,
     "end_time": "2024-04-23T07:36:22.032445",
     "exception": false,
     "start_time": "2024-04-23T07:36:21.484874",
     "status": "completed"
    },
    "tags": []
   },
   "outputs": [
    {
     "name": "stdout",
     "output_type": "stream",
     "text": [
      "Accuracy: 0.832089552238806\n"
     ]
    }
   ],
   "source": [
    "features_2 = ['Pclass', \"Sex\", 'Age', 'SibSp', 'Parch', 'Fare', 'Embarked','title','family_size','family_id']\n",
    "combined_data_2 = pd.get_dummies(pd.concat([train_data,test_data])[features_2])\n",
    "X_train, X_val, y_train, y_val = train_test_split(combined_data_2[:len(train_data)],\n",
    "    train_data['Survived'], \n",
    "    test_size=0.3, \n",
    "    random_state=42\n",
    ")\n",
    "\n",
    "hgb_classifier = HistGradientBoostingClassifier(random_state=20, max_leaf_nodes=3)\n",
    "hgb_classifier.fit(X_train, y_train)\n",
    "y_pred = hgb_classifier.predict(X_val)\n",
    "accuracy = accuracy_score(y_val, y_pred)\n",
    "print(\"Accuracy:\", accuracy)"
   ]
  },
  {
   "cell_type": "code",
   "execution_count": 24,
   "id": "f9ee12d8",
   "metadata": {
    "execution": {
     "iopub.execute_input": "2024-04-23T07:36:22.072721Z",
     "iopub.status.busy": "2024-04-23T07:36:22.072314Z",
     "iopub.status.idle": "2024-04-23T07:36:22.078837Z",
     "shell.execute_reply": "2024-04-23T07:36:22.077289Z"
    },
    "papermill": {
     "duration": 0.029822,
     "end_time": "2024-04-23T07:36:22.082419",
     "exception": false,
     "start_time": "2024-04-23T07:36:22.052597",
     "status": "completed"
    },
    "tags": []
   },
   "outputs": [],
   "source": [
    "kf = KFold(n_splits=5, shuffle=True, random_state=26)"
   ]
  },
  {
   "cell_type": "code",
   "execution_count": 25,
   "id": "5222d494",
   "metadata": {
    "execution": {
     "iopub.execute_input": "2024-04-23T07:36:22.123805Z",
     "iopub.status.busy": "2024-04-23T07:36:22.122666Z",
     "iopub.status.idle": "2024-04-23T07:36:23.781156Z",
     "shell.execute_reply": "2024-04-23T07:36:23.779829Z"
    },
    "papermill": {
     "duration": 1.683114,
     "end_time": "2024-04-23T07:36:23.784427",
     "exception": false,
     "start_time": "2024-04-23T07:36:22.101313",
     "status": "completed"
    },
    "tags": []
   },
   "outputs": [
    {
     "name": "stdout",
     "output_type": "stream",
     "text": [
      "Mean CV score: 0.8080597577051034\n",
      "Standard deviation of CV scores: 0.02705187427779891\n",
      "Mean CV score: 0.828278199736363\n",
      "Standard deviation of CV scores: 0.025051844806542337\n"
     ]
    }
   ],
   "source": [
    "for classifier in [tree_classifier,rforest_classifier]:\n",
    "    scores = cross_val_score(classifier, combined_data_1[:len(train_data)], train_data['Survived'], cv=kf)\n",
    "    print(\"Mean CV score:\", np.mean(scores))\n",
    "    print(\"Standard deviation of CV scores:\", np.std(scores))"
   ]
  },
  {
   "cell_type": "code",
   "execution_count": 26,
   "id": "4772b2c0",
   "metadata": {
    "execution": {
     "iopub.execute_input": "2024-04-23T07:36:23.823325Z",
     "iopub.status.busy": "2024-04-23T07:36:23.822656Z",
     "iopub.status.idle": "2024-04-23T07:36:23.838607Z",
     "shell.execute_reply": "2024-04-23T07:36:23.836864Z"
    },
    "papermill": {
     "duration": 0.039439,
     "end_time": "2024-04-23T07:36:23.841883",
     "exception": false,
     "start_time": "2024-04-23T07:36:23.802444",
     "status": "completed"
    },
    "tags": []
   },
   "outputs": [],
   "source": [
    "tree_classifier.fit(combined_data_1[:len(train_data)],train_data['Survived'])\n",
    "predictions = tree_classifier.predict(combined_data_1[len(train_data):])"
   ]
  },
  {
   "cell_type": "code",
   "execution_count": 27,
   "id": "68416c7c",
   "metadata": {
    "execution": {
     "iopub.execute_input": "2024-04-23T07:36:23.880890Z",
     "iopub.status.busy": "2024-04-23T07:36:23.880325Z",
     "iopub.status.idle": "2024-04-23T07:36:23.892629Z",
     "shell.execute_reply": "2024-04-23T07:36:23.891331Z"
    },
    "papermill": {
     "duration": 0.035954,
     "end_time": "2024-04-23T07:36:23.895566",
     "exception": false,
     "start_time": "2024-04-23T07:36:23.859612",
     "status": "completed"
    },
    "tags": []
   },
   "outputs": [],
   "source": [
    "output = pd.DataFrame({'PassengerId': test_data.PassengerId, 'Survived': predictions.astype(int)})\n",
    "output.to_csv('submission.csv', index=False)"
   ]
  },
  {
   "cell_type": "markdown",
   "id": "46ec87e4-0166-4b20-b063-16da8ebd72d6",
   "metadata": {},
   "source": [
    "# Reference\n",
    "\n",
    "1. Stephens, T. (2014, January 10). Titanic: Getting started with R. Trevor Stephens. https://trevorstephens.com/kaggle-titanic-tutorial/getting-started-with-r/\n",
    "2. Pedregosa, F., Varoquaux, G., Gramfort, A., Michel, V., Thirion, B., Grisel, O., Blondel, M., Prettenhofer, P., Weiss, R., Dubourg, V., Vanderplas, J., Passos, A., Cournapeau, D., Brucher, M., Perrot, M., & Duchesnay, E. (2011). Scikit-learn: Machine Learning in Python. Journal of Machine Learning Research, 12, 2825–2830.\n"
   ]
  }
 ],
 "metadata": {
  "kaggle": {
   "accelerator": "none",
   "dataSources": [
    {
     "databundleVersionId": 26502,
     "sourceId": 3136,
     "sourceType": "competition"
    }
   ],
   "dockerImageVersionId": 30664,
   "isGpuEnabled": false,
   "isInternetEnabled": true,
   "language": "python",
   "sourceType": "notebook"
  },
  "kernelspec": {
   "display_name": "Python 3 (ipykernel)",
   "language": "python",
   "name": "python3"
  },
  "language_info": {
   "codemirror_mode": {
    "name": "ipython",
    "version": 3
   },
   "file_extension": ".py",
   "mimetype": "text/x-python",
   "name": "python",
   "nbconvert_exporter": "python",
   "pygments_lexer": "ipython3",
   "version": "3.11.7"
  },
  "papermill": {
   "default_parameters": {},
   "duration": 13.502129,
   "end_time": "2024-04-23T07:36:24.736820",
   "environment_variables": {},
   "exception": null,
   "input_path": "__notebook__.ipynb",
   "output_path": "__notebook__.ipynb",
   "parameters": {},
   "start_time": "2024-04-23T07:36:11.234691",
   "version": "2.5.0"
  }
 },
 "nbformat": 4,
 "nbformat_minor": 5
}
